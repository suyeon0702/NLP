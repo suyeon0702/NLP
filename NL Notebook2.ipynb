{
 "cells": [
  {
   "cell_type": "code",
   "execution_count": 2,
   "metadata": {},
   "outputs": [
    {
     "data": {
      "text/plain": [
       "\"\\n# Sequential API 프로그램 사례\\nfrom keras import models\\nfrom keras import layers\\n\\n# Sequential API를 사용\\nnetwork = models.Sequential()\\n\\n# Layer들을 설정\\nnetwork.add(layers.Dense(64, activation = 'relu'))\\nnetwork.add(layers.Dense(10, activation = 'softmax'))\\n\\n# 훈련 설정\\nnetwork.compile(optimizer = 'rmsprop',\\n                loss = 'categorical_crossentropy',\\n                metrics = ['accuracy'])\\n\\n# 모델 훈련\\nnetwork.fit(train_data, train_labels, epochs = 10, batch_size = 32)\\n\\n# 모델 평가\\nnetwork.evaluate(test_data, test_labels)\\n\""
      ]
     },
     "execution_count": 2,
     "metadata": {},
     "output_type": "execute_result"
    }
   ],
   "source": [
    "\"\"\"\n",
    "# Sequential API 프로그램 사례\n",
    "\n",
    "from keras import models\n",
    "from keras import layers\n",
    "\n",
    "# Sequential API를 사용\n",
    "network = models.Sequential()\n",
    "\n",
    "# Layer들을 설정\n",
    "network.add(layers.Dense(64, activation = 'relu'))\n",
    "network.add(layers.Dense(10, activation = 'softmax'))\n",
    "\n",
    "# 훈련 설정\n",
    "network.compile(optimizer = 'rmsprop',\n",
    "                loss = 'categorical_crossentropy',\n",
    "                metrics = ['accuracy'])\n",
    "\n",
    "# 모델 훈련\n",
    "network.fit(train_data, train_labels, epochs = 10, batch_size = 32)\n",
    "\n",
    "# 모델 평가\n",
    "network.evaluate(test_data, test_labels)\n",
    "\"\"\""
   ]
  },
  {
   "cell_type": "code",
   "execution_count": null,
   "metadata": {},
   "outputs": [],
   "source": [
    "# Layer 추가 방법\n",
    "model = models.Sequential()\n",
    "\n",
    "model.add(layers.Dense(16, activation = 'relu', input_shape = (10000, )))\n",
    "model.add(layers.Dense(16, activation = 'relu'))\n",
    "model.add(layers.Dense( 1, activation = 'sigmoid'))\n",
    "            # 레이어의 유형\n",
    "                                  # 활성화 함수"
   ]
  },
  {
   "cell_type": "code",
   "execution_count": null,
   "metadata": {},
   "outputs": [],
   "source": [
    "# 훈련 방법\n",
    "# Layer들이 지정되면 compile 함수를 통해 훈련 방법을 지정\n",
    "network.compile(optimizer = 'rmsprop',\n",
    "                loss = 'categorical_crossentropy',\n",
    "                metrics = ['accuracy'])"
   ]
  },
  {
   "cell_type": "code",
   "execution_count": null,
   "metadata": {},
   "outputs": [],
   "source": [
    "# 모델 훈련\n",
    "# 입력 데이터를 이용하여 생성된 네트워크를 훈련시킴\n",
    "network.fit(train_data, train_labels, epochs = 10, batch_size = 32)"
   ]
  },
  {
   "cell_type": "code",
   "execution_count": null,
   "metadata": {},
   "outputs": [],
   "source": [
    "# 성능 평가\n",
    "# 테스트 데이터를 이용하여 훈련된 네트워크 성능을 평가\n",
    "test_loss, test_acc = network.evaluate(test_data, test_labels)"
   ]
  },
  {
   "cell_type": "code",
   "execution_count": null,
   "metadata": {},
   "outputs": [],
   "source": [
    "# 사례: 필기체 숫자 인식\n",
    "from keras.datasets import mnist\n",
    "\n",
    "(train_images, train_labels), (test_images, test_labels) = mnist.load_data()\n",
    "\n",
    "# 확인\n",
    "# train_images.shape / len(train_labels) / train_labels\n",
    "# test_images.shape / len(test_labels) / test_labels"
   ]
  },
  {
   "cell_type": "code",
   "execution_count": null,
   "metadata": {},
   "outputs": [],
   "source": [
    "# 데이터 영상 보기\n",
    "digit = train_images[4]\n",
    "\n",
    "import matplotlib.pyplot as plt\n",
    "plt.imshow(digit, cmap = plt.cm.binary)\n",
    "plt.show()"
   ]
  },
  {
   "cell_type": "code",
   "execution_count": null,
   "metadata": {},
   "outputs": [],
   "source": [
    "# 신경망 프로그래밍\n",
    "# Sequential API로 구현할 수 있음\n",
    "from keras import models\n",
    "from keras import layers\n",
    "\n",
    "# Network arachitecture\n",
    "network = models.Sequential()\n",
    "network.add(layers.Dense(512, activation = 'relu', input_shape = (28 * 28, )))\n",
    "network.add(layers.Dense( 10, activation = 'softmax'))"
   ]
  },
  {
   "cell_type": "code",
   "execution_count": null,
   "metadata": {},
   "outputs": [],
   "source": [
    "# 영상 변환\n",
    "# 영상: 크기(28x28), 밝기 (0~255)\n",
    "# 신경망: 크기(784x1), 밝기(0~1)\n",
    "# 데이터 형태 변환이 필요함\n",
    "train_images = train_images.reshape((60000, 28 * 28))\n",
    "train_images = train_images.astype('float32') / 255\n",
    "\n",
    "test_images = test_images.reshape((10000, 28 * 28))\n",
    "test_images = test_images.astype('float32') / 255"
   ]
  },
  {
   "cell_type": "code",
   "execution_count": null,
   "metadata": {},
   "outputs": [],
   "source": [
    "# 영상 레이블 변환\n",
    "# 영상 레이블을 카테고리 형으로 변환\n",
    "from keras.utils import to_categorical\n",
    "\n",
    "train_labels = to_categorical(train_labels)\n",
    "test_labels = to_categorical(test_labels)"
   ]
  },
  {
   "cell_type": "code",
   "execution_count": null,
   "metadata": {},
   "outputs": [],
   "source": [
    "# 훈련 과정\n",
    "# compile과 fit을 수행\n",
    "network.compile(optimizer = 'rmsprop',\n",
    "                loss = 'categorical_crossentropy',\n",
    "                metrics = ['accuracy'])\n",
    "\n",
    "network.fit(train_images, train_labels, epochs = 5, batch_size = 128)"
   ]
  },
  {
   "cell_type": "code",
   "execution_count": null,
   "metadata": {},
   "outputs": [],
   "source": [
    "# 전체 프로그램\n",
    "\n",
    "# Loading the MNIST dataset\n",
    "from keras.datasets import mnist\n",
    "(train_images, train_labels), (test_images, test_labels) = mnist.load_data()\n",
    "\n",
    "from keras import models\n",
    "from keras import layers\n",
    "\n",
    "# Network architecture\n",
    "network = models.Sequential()\n",
    "network.add(layers.Dense(512, activation='relu', input_shape=(28 * 28,)))\n",
    "network.add(layers.Dense(10, activation='softmax'))\n",
    "\n",
    "# The compilation step\n",
    "network.compile(optimizer='rmsprop',\n",
    "loss='categorical_crossentropy',\n",
    "metrics=['accuracy'])\n",
    "\n",
    "# Preparing image data\n",
    "train_images = train_images.reshape((60000, 28 * 28))\n",
    "train_images = train_images.astype('float32') / 255\n",
    "test_images = test_images.reshape((10000, 28 * 28))\n",
    "test_images = test_images.astype('float32') / 255\n",
    "\n",
    "# Preparing the labels\n",
    "from keras.utils import to_categorical\n",
    "train_labels = to_categorical(train_labels)\n",
    "test_labels = to_categorical(test_labels)\n",
    "\n",
    "# Fit the model to training data\n",
    "network.fit(train_images, train_labels, epochs=5, batch_size=128)"
   ]
  }
 ],
 "metadata": {
  "kernelspec": {
   "display_name": "Python 3",
   "language": "python",
   "name": "python3"
  },
  "language_info": {
   "codemirror_mode": {
    "name": "ipython",
    "version": 3
   },
   "file_extension": ".py",
   "mimetype": "text/x-python",
   "name": "python",
   "nbconvert_exporter": "python",
   "pygments_lexer": "ipython3",
   "version": "3.7.6"
  }
 },
 "nbformat": 4,
 "nbformat_minor": 4
}
