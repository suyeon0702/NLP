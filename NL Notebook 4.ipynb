{
 "cells": [
  {
   "cell_type": "markdown",
   "metadata": {},
   "source": [
    "### 텍스트 분류(Text Classification)\n",
    "- 분류하는 텍스트 데이터는 내용과 레이블로 구성되어 있다.\n",
    "\n",
    "  텍스트 내용을 기반으로 레이블을 분류하는 것이 목적이다.\n",
    "  \n",
    "  ex) 스팸 메일 분류, 뉴스 기사의 주제 분류, 영화평의 선호도 분류 등\n",
    "  \n",
    "\n",
    "- 이진 분류: 두개의 선택 중에서 정답을 고르는 형식\n",
    "- 다중 클래스 분류: 세개 이상의 선택에서 정답을 고르는 경우"
   ]
  },
  {
   "cell_type": "markdown",
   "metadata": {},
   "source": [
    "### Keras에서 입력 텍스트 처리 함수\n"
   ]
  },
  {
   "cell_type": "code",
   "execution_count": 1,
   "metadata": {},
   "outputs": [
    {
     "ename": "NameError",
     "evalue": "name 'text_data' is not defined",
     "output_type": "error",
     "traceback": [
      "\u001b[1;31m---------------------------------------------------------------------------\u001b[0m",
      "\u001b[1;31mNameError\u001b[0m                                 Traceback (most recent call last)",
      "\u001b[1;32m<ipython-input-1-5ef7f47ce9b3>\u001b[0m in \u001b[0;36m<module>\u001b[1;34m\u001b[0m\n\u001b[0;32m      4\u001b[0m \u001b[1;33m\u001b[0m\u001b[0m\n\u001b[0;32m      5\u001b[0m \u001b[0mtokenizer\u001b[0m \u001b[1;33m=\u001b[0m \u001b[0mTokenizer\u001b[0m\u001b[1;33m(\u001b[0m\u001b[1;33m)\u001b[0m\u001b[1;33m\u001b[0m\u001b[1;33m\u001b[0m\u001b[0m\n\u001b[1;32m----> 6\u001b[1;33m \u001b[0mtokenizer\u001b[0m\u001b[1;33m.\u001b[0m\u001b[0mfit_on_texts\u001b[0m\u001b[1;33m(\u001b[0m\u001b[0mtext_data\u001b[0m\u001b[1;33m)\u001b[0m \u001b[1;31m# 텍스트의 각 단어에 고유한 숫자 부여\u001b[0m\u001b[1;33m\u001b[0m\u001b[1;33m\u001b[0m\u001b[0m\n\u001b[0m\u001b[0;32m      7\u001b[0m \u001b[0msequences\u001b[0m \u001b[1;33m=\u001b[0m \u001b[0mtokenizer\u001b[0m\u001b[1;33m.\u001b[0m\u001b[0mtexts_to_sequences\u001b[0m\u001b[1;33m(\u001b[0m\u001b[0mtext_data\u001b[0m\u001b[1;33m)\u001b[0m \u001b[1;31m# 단어를 숫자값으로\u001b[0m\u001b[1;33m\u001b[0m\u001b[1;33m\u001b[0m\u001b[0m\n",
      "\u001b[1;31mNameError\u001b[0m: name 'text_data' is not defined"
     ]
    }
   ],
   "source": [
    "# Tokenizer: 입력 텍스트를 숫자로 변환\n",
    "from keras.preprocessing.text import Tokenizer\n",
    "from keras.preprocessing.sequence import pad_sequences\n",
    "\n",
    "tokenizer = Tokenizer()\n",
    "tokenizer.fit_on_texts(text_data) # 텍스트의 각 단어에 고유한 숫자 부여\n",
    "sequences = tokenizer.texts_to_sequences(text_data) # 단어를 숫자값으로"
   ]
  },
  {
   "cell_type": "code",
   "execution_count": 2,
   "metadata": {},
   "outputs": [],
   "source": []
  },
  {
   "cell_type": "code",
   "execution_count": null,
   "metadata": {},
   "outputs": [],
   "source": []
  },
  {
   "cell_type": "code",
   "execution_count": null,
   "metadata": {},
   "outputs": [],
   "source": []
  },
  {
   "cell_type": "code",
   "execution_count": null,
   "metadata": {},
   "outputs": [],
   "source": []
  },
  {
   "cell_type": "code",
   "execution_count": null,
   "metadata": {},
   "outputs": [],
   "source": []
  },
  {
   "cell_type": "code",
   "execution_count": null,
   "metadata": {},
   "outputs": [],
   "source": []
  },
  {
   "cell_type": "code",
   "execution_count": null,
   "metadata": {},
   "outputs": [],
   "source": []
  },
  {
   "cell_type": "code",
   "execution_count": null,
   "metadata": {},
   "outputs": [],
   "source": []
  },
  {
   "cell_type": "code",
   "execution_count": 2,
   "metadata": {},
   "outputs": [
    {
     "name": "stdout",
     "output_type": "stream",
     "text": [
      "Epoch 1/20\n",
      "71/71 [==============================] - 27s 373ms/step - loss: 2.6249 - acc: 0.3373 - val_loss: 2.4117 - val_acc: 0.3620\n",
      "Epoch 2/20\n",
      "71/71 [==============================] - 25s 350ms/step - loss: 2.2383 - acc: 0.4164 - val_loss: 1.9951 - val_acc: 0.5049\n",
      "Epoch 3/20\n",
      "71/71 [==============================] - 25s 350ms/step - loss: 1.9605 - acc: 0.4950 - val_loss: 1.8797 - val_acc: 0.5009\n",
      "Epoch 4/20\n",
      "71/71 [==============================] - 25s 347ms/step - loss: 1.7719 - acc: 0.5469 - val_loss: 1.7388 - val_acc: 0.5659\n",
      "Epoch 5/20\n",
      "71/71 [==============================] - 24s 344ms/step - loss: 1.6757 - acc: 0.5660 - val_loss: 1.6751 - val_acc: 0.5752\n",
      "Epoch 6/20\n",
      "71/71 [==============================] - 25s 346ms/step - loss: 1.6388 - acc: 0.5736 - val_loss: 1.6702 - val_acc: 0.5784\n",
      "Epoch 7/20\n",
      "71/71 [==============================] - 25s 351ms/step - loss: 1.5753 - acc: 0.5961 - val_loss: 1.6169 - val_acc: 0.5913\n",
      "Epoch 8/20\n",
      "71/71 [==============================] - 27s 383ms/step - loss: 1.4924 - acc: 0.6173 - val_loss: 1.5317 - val_acc: 0.6202\n",
      "Epoch 9/20\n",
      "71/71 [==============================] - 28s 391ms/step - loss: 1.4097 - acc: 0.6397 - val_loss: 1.4817 - val_acc: 0.6278\n",
      "Epoch 10/20\n",
      "71/71 [==============================] - 27s 386ms/step - loss: 1.3287 - acc: 0.6607 - val_loss: 1.4117 - val_acc: 0.6567\n",
      "Epoch 11/20\n",
      "71/71 [==============================] - 25s 356ms/step - loss: 1.2694 - acc: 0.6807 - val_loss: 1.3921 - val_acc: 0.6385\n",
      "Epoch 12/20\n",
      "71/71 [==============================] - 25s 352ms/step - loss: 1.1934 - acc: 0.6977 - val_loss: 1.3087 - val_acc: 0.6598\n",
      "Epoch 13/20\n",
      "71/71 [==============================] - 24s 344ms/step - loss: 1.1292 - acc: 0.7178 - val_loss: 1.2671 - val_acc: 0.6808\n",
      "Epoch 14/20\n",
      "71/71 [==============================] - 25s 347ms/step - loss: 1.0628 - acc: 0.7316 - val_loss: 1.2445 - val_acc: 0.6955\n",
      "Epoch 15/20\n",
      "71/71 [==============================] - 24s 344ms/step - loss: 1.0035 - acc: 0.7457 - val_loss: 1.2712 - val_acc: 0.6941\n",
      "Epoch 16/20\n",
      "71/71 [==============================] - 25s 345ms/step - loss: 0.9857 - acc: 0.7493 - val_loss: 1.2319 - val_acc: 0.6977\n",
      "Epoch 17/20\n",
      "71/71 [==============================] - 24s 342ms/step - loss: 0.9232 - acc: 0.7681 - val_loss: 1.1967 - val_acc: 0.7097\n",
      "Epoch 18/20\n",
      "71/71 [==============================] - 25s 348ms/step - loss: 0.8885 - acc: 0.7768 - val_loss: 1.1765 - val_acc: 0.7164\n",
      "Epoch 19/20\n",
      "71/71 [==============================] - 24s 343ms/step - loss: 0.8292 - acc: 0.7900 - val_loss: 1.1793 - val_acc: 0.7110\n",
      "Epoch 20/20\n",
      "71/71 [==============================] - 23s 323ms/step - loss: 0.8229 - acc: 0.7927 - val_loss: 1.1793 - val_acc: 0.7128\n"
     ]
    }
   ],
   "source": [
    "from tensorflow.keras.datasets import reuters\n",
    "from tensorflow.keras.models import Sequential\n",
    "from tensorflow.keras.layers import Dense, LSTM, Embedding\n",
    "from tensorflow.keras.preprocessing.sequence import pad_sequences\n",
    "from tensorflow.keras.utils import to_categorical\n",
    "from tensorflow.keras.callbacks import EarlyStopping, ModelCheckpoint\n",
    "from tensorflow.keras.models import load_model\n",
    "\n",
    "(X_train, y_train), (X_test, y_test) = reuters.load_data(num_words = 1000,\n",
    "                                                         test_split = 0.2)\n",
    "\n",
    "max_len = 100\n",
    "X_train = pad_sequences(X_train, maxlen = max_len)\n",
    "X_test = pad_sequences (X_test, maxlen = max_len)\n",
    "\n",
    "y_train = to_categorical(y_train)\n",
    "y_test  = to_categorical(y_test)\n",
    "\n",
    "model = Sequential()\n",
    "model.add(Embedding(1000, 120))\n",
    "model.add(LSTM(120))\n",
    "model.add(Dense(46, activation = 'softmax'))\n",
    "\n",
    "model.compile(loss = 'categorical_crossentropy', optimizer = 'adam',\n",
    "              metrics = ['acc'])\n",
    "\n",
    "history = model.fit(X_train, y_train, batch_size = 128, epochs = 20,\n",
    "                    validation_data = (X_test, y_test))"
   ]
  },
  {
   "cell_type": "code",
   "execution_count": 11,
   "metadata": {},
   "outputs": [
    {
     "name": "stdout",
     "output_type": "stream",
     "text": [
      "Epoch 1/20\n",
      "16/16 [==============================] - 1s 85ms/step - loss: 2.7080 - accuracy: 0.5158 - val_loss: 1.8717 - val_accuracy: 0.5840\n",
      "Epoch 2/20\n",
      "16/16 [==============================] - 1s 62ms/step - loss: 1.6356 - accuracy: 0.6518 - val_loss: 1.4439 - val_accuracy: 0.6720\n",
      "Epoch 3/20\n",
      "16/16 [==============================] - 1s 64ms/step - loss: 1.3488 - accuracy: 0.7053 - val_loss: 1.2808 - val_accuracy: 0.7120\n",
      "Epoch 4/20\n",
      "16/16 [==============================] - 1s 57ms/step - loss: 1.1854 - accuracy: 0.7374 - val_loss: 1.1895 - val_accuracy: 0.7300\n",
      "Epoch 5/20\n",
      "16/16 [==============================] - 1s 63ms/step - loss: 1.0615 - accuracy: 0.7658 - val_loss: 1.1143 - val_accuracy: 0.7640\n",
      "Epoch 6/20\n",
      "16/16 [==============================] - 1s 66ms/step - loss: 0.9617 - accuracy: 0.7821 - val_loss: 1.0531 - val_accuracy: 0.7710\n",
      "Epoch 7/20\n",
      "16/16 [==============================] - 1s 71ms/step - loss: 0.8795 - accuracy: 0.8028 - val_loss: 1.0119 - val_accuracy: 0.7750\n",
      "Epoch 8/20\n",
      "16/16 [==============================] - 1s 71ms/step - loss: 0.8036 - accuracy: 0.8145 - val_loss: 1.0150 - val_accuracy: 0.7740\n",
      "Epoch 9/20\n",
      "16/16 [==============================] - 1s 69ms/step - loss: 0.7439 - accuracy: 0.8299 - val_loss: 0.9586 - val_accuracy: 0.7870\n",
      "Epoch 10/20\n",
      "16/16 [==============================] - 1s 80ms/step - loss: 0.6846 - accuracy: 0.8399 - val_loss: 0.9418 - val_accuracy: 0.7840\n",
      "Epoch 11/20\n",
      "16/16 [==============================] - 1s 67ms/step - loss: 0.6312 - accuracy: 0.8548 - val_loss: 0.9446 - val_accuracy: 0.7850\n",
      "Epoch 12/20\n",
      "16/16 [==============================] - 1s 61ms/step - loss: 0.5882 - accuracy: 0.8622 - val_loss: 0.9224 - val_accuracy: 0.7990\n",
      "Epoch 13/20\n",
      "16/16 [==============================] - 1s 59ms/step - loss: 0.5478 - accuracy: 0.8720 - val_loss: 0.9152 - val_accuracy: 0.7930\n",
      "Epoch 14/20\n",
      "16/16 [==============================] - 1s 54ms/step - loss: 0.5133 - accuracy: 0.8799 - val_loss: 0.8965 - val_accuracy: 0.7990\n",
      "Epoch 15/20\n",
      "16/16 [==============================] - 1s 52ms/step - loss: 0.4774 - accuracy: 0.8898 - val_loss: 0.9121 - val_accuracy: 0.7890\n",
      "Epoch 16/20\n",
      "16/16 [==============================] - 1s 52ms/step - loss: 0.4499 - accuracy: 0.8961 - val_loss: 0.9193 - val_accuracy: 0.8030\n",
      "Epoch 17/20\n",
      "16/16 [==============================] - 1s 55ms/step - loss: 0.4166 - accuracy: 0.9047 - val_loss: 0.9204 - val_accuracy: 0.7900\n",
      "Epoch 18/20\n",
      "16/16 [==============================] - 1s 51ms/step - loss: 0.3966 - accuracy: 0.9079 - val_loss: 0.9269 - val_accuracy: 0.7970\n",
      "Epoch 19/20\n",
      "16/16 [==============================] - 1s 52ms/step - loss: 0.3664 - accuracy: 0.9128 - val_loss: 0.9342 - val_accuracy: 0.7880\n",
      "Epoch 20/20\n",
      "16/16 [==============================] - 1s 47ms/step - loss: 0.3520 - accuracy: 0.9157 - val_loss: 0.9461 - val_accuracy: 0.7920\n"
     ]
    }
   ],
   "source": [
    "from keras.datasets import reuters\n",
    "\n",
    "(train_data, train_labels), (test_data, test_labels) = reuters.load_data(num_words=1000)\n",
    "import numpy as np\n",
    "\n",
    "def vectorize_sequences(sequences, dimension=10000):\n",
    "    results = np.zeros((len(sequences), dimension))\n",
    "    for i, sequence in enumerate(sequences):\n",
    "        results[i, sequence] = 1.\n",
    "    return results\n",
    "\n",
    "x_train = vectorize_sequences(train_data) # 훈련 데이터 벡터 변환\n",
    "x_test = vectorize_sequences(test_data) # 테스트 데이터 벡터 변환\n",
    "\n",
    "def to_one_hot(labels, dimension=46):\n",
    "    results = np.zeros((len(labels), dimension))\n",
    "    \n",
    "    for i, label in enumerate(labels):\n",
    "        results[i, label] = 1.\n",
    "    return results\n",
    "\n",
    "one_hot_train_labels = to_one_hot(train_labels) # 훈련 레이블 벡터 변환\n",
    "one_hot_test_labels = to_one_hot(test_labels) # 테스트 레이블 벡터 변환\n",
    "\n",
    "from keras import models\n",
    "from keras import layers\n",
    "\n",
    "model = models.Sequential()\n",
    "model.add(layers.Dense(64, activation='relu', input_shape=(10000,)))\n",
    "model.add(layers.Dense(64, activation='relu'))\n",
    "model.add(layers.Dense(46, activation='softmax'))\n",
    "\n",
    "\n",
    "model.compile(optimizer='rmsprop',\n",
    "              loss='categorical_crossentropy',\n",
    "              metrics=['accuracy'])\n",
    "\n",
    "x_val = x_train[:1000]\n",
    "partial_x_train = x_train[1000:]\n",
    "\n",
    "y_val = one_hot_train_labels[:1000]\n",
    "partial_y_train = one_hot_train_labels[1000:]\n",
    "\n",
    "history = model.fit(partial_x_train,\n",
    "                    partial_y_train,\n",
    "                    epochs=20,\n",
    "                    batch_size=512,\n",
    "                    validation_data=(x_val, y_val))"
   ]
  },
  {
   "cell_type": "code",
   "execution_count": 6,
   "metadata": {},
   "outputs": [
    {
     "data": {
      "image/png": "[encoded data removed]",
      "text/plain": [
       "<Figure size 432x288 with 1 Axes>"
      ]
     },
     "metadata": {
      "needs_background": "light"
     },
     "output_type": "display_data"
    }
   ],
   "source": [
    "import matplotlib.pyplot as plt\n",
    "\n",
    "loss = history.history['loss']\n",
    "val_loss = history.history['val_loss']\n",
    "\n",
    "epochs = range(1, len(loss) + 1)\n",
    "\n",
    "plt.plot(epochs, loss, 'bo', label='Training loss')\n",
    "plt.plot(epochs, val_loss, 'b', label='Validation loss')\n",
    "plt.title('Training and validation loss')\n",
    "plt.xlabel('Epochs')\n",
    "plt.ylabel('Loss')\n",
    "plt.legend()\n",
    "\n",
    "plt.show()\n"
   ]
  },
  {
   "cell_type": "code",
   "execution_count": 9,
   "metadata": {},
   "outputs": [
    {
     "name": "stdout",
     "output_type": "stream",
     "text": [
      "71/71 [==============================] - 0s 4ms/step - loss: 1.3077 - accuracy: 0.7792\n"
     ]
    }
   ],
   "source": [
    "results = model.evaluate(x_test, one_hot_test_labels)"
   ]
  },
  {
   "cell_type": "code",
   "execution_count": 10,
   "metadata": {},
   "outputs": [
    {
     "data": {
      "text/plain": [
       "[1.3076517581939697, 0.7791629433631897]"
      ]
     },
     "execution_count": 10,
     "metadata": {},
     "output_type": "execute_result"
    }
   ],
   "source": [
    "results"
   ]
  },
  {
   "cell_type": "code",
   "execution_count": null,
   "metadata": {},
   "outputs": [],
   "source": []
  },
  {
   "cell_type": "code",
   "execution_count": null,
   "metadata": {},
   "outputs": [],
   "source": []
  },
  {
   "cell_type": "code",
   "execution_count": null,
   "metadata": {},
   "outputs": [],
   "source": []
  },
  {
   "cell_type": "code",
   "execution_count": null,
   "metadata": {},
   "outputs": [],
   "source": []
  },
  {
   "cell_type": "code",
   "execution_count": null,
   "metadata": {},
   "outputs": [],
   "source": []
  },
  {
   "cell_type": "code",
   "execution_count": null,
   "metadata": {},
   "outputs": [],
   "source": []
  }
 ],
 "metadata": {
  "kernelspec": {
   "display_name": "Python 3",
   "language": "python",
   "name": "python3"
  },
  "language_info": {
   "codemirror_mode": {
    "name": "ipython",
    "version": 3
   },
   "file_extension": ".py",
   "mimetype": "text/x-python",
   "name": "python",
   "nbconvert_exporter": "python",
   "pygments_lexer": "ipython3",
   "version": "3.7.6"
  }
 },
 "nbformat": 4,
 "nbformat_minor": 4
}
