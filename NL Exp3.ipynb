{
 "cells": [
  {
   "cell_type": "markdown",
   "metadata": {},
   "source": [
    "## 자연어처리 Exp3\n",
    "### 201800839 김수연"
   ]
  },
  {
   "cell_type": "code",
   "execution_count": 1,
   "metadata": {},
   "outputs": [],
   "source": [
    "from tensorflow.keras.datasets import reuters\n",
    "import matplotlib.pyplot as plt\n",
    "import numpy as np\n",
    "import seaborn as sns\n",
    "\n",
    "\n",
    "from tensorflow.keras.datasets import reuters\n",
    "from tensorflow.keras.models import Sequential\n",
    "from tensorflow.keras.layers import Dense, LSTM, Embedding\n",
    "from tensorflow.keras.preprocessing.sequence import pad_sequences\n",
    "from tensorflow.keras.utils import to_categorical\n",
    "from tensorflow.keras.callbacks import EarlyStopping, ModelCheckpoint\n",
    "from tensorflow.keras.models import load_model"
   ]
  },
  {
   "cell_type": "code",
   "execution_count": 2,
   "metadata": {},
   "outputs": [
    {
     "name": "stdout",
     "output_type": "stream",
     "text": [
      "Epoch 1/20\n",
      "71/71 [==============================] - 28s 393ms/step - loss: 2.6276 - acc: 0.3329 - val_loss: 2.3827 - val_acc: 0.3620\n",
      "Epoch 2/20\n",
      "71/71 [==============================] - 21s 292ms/step - loss: 2.1138 - acc: 0.4511 - val_loss: 1.9994 - val_acc: 0.4955\n",
      "Epoch 3/20\n",
      "71/71 [==============================] - 19s 272ms/step - loss: 1.8387 - acc: 0.5219 - val_loss: 1.8300 - val_acc: 0.5236\n",
      "Epoch 4/20\n",
      "71/71 [==============================] - 20s 281ms/step - loss: 1.8067 - acc: 0.5310 - val_loss: 1.7630 - val_acc: 0.5534\n",
      "Epoch 5/20\n",
      "71/71 [==============================] - 20s 279ms/step - loss: 1.6900 - acc: 0.5608 - val_loss: 1.7158 - val_acc: 0.5650\n",
      "Epoch 6/20\n",
      "71/71 [==============================] - 20s 279ms/step - loss: 1.6375 - acc: 0.5731 - val_loss: 1.6700 - val_acc: 0.5717\n",
      "Epoch 7/20\n",
      "71/71 [==============================] - 19s 268ms/step - loss: 1.5974 - acc: 0.5919 - val_loss: 1.6821 - val_acc: 0.5819\n",
      "Epoch 8/20\n",
      "71/71 [==============================] - 19s 272ms/step - loss: 1.5640 - acc: 0.6013 - val_loss: 1.5767 - val_acc: 0.6122\n",
      "Epoch 9/20\n",
      "71/71 [==============================] - 20s 276ms/step - loss: 1.4587 - acc: 0.6336 - val_loss: 1.5619 - val_acc: 0.6118\n",
      "Epoch 10/20\n",
      "71/71 [==============================] - 20s 286ms/step - loss: 1.4445 - acc: 0.6363 - val_loss: 1.5050 - val_acc: 0.6211\n",
      "Epoch 11/20\n",
      "71/71 [==============================] - 19s 273ms/step - loss: 1.3392 - acc: 0.6666 - val_loss: 1.4473 - val_acc: 0.6429\n",
      "Epoch 12/20\n",
      "71/71 [==============================] - 19s 274ms/step - loss: 1.2632 - acc: 0.6818 - val_loss: 1.3696 - val_acc: 0.6549\n",
      "Epoch 13/20\n",
      "71/71 [==============================] - 19s 273ms/step - loss: 1.1939 - acc: 0.6982 - val_loss: 1.3434 - val_acc: 0.6634\n",
      "Epoch 14/20\n",
      "71/71 [==============================] - 19s 261ms/step - loss: 1.1439 - acc: 0.7071 - val_loss: 1.3146 - val_acc: 0.6576\n",
      "Epoch 15/20\n",
      "71/71 [==============================] - 22s 305ms/step - loss: 1.1049 - acc: 0.7163 - val_loss: 1.3245 - val_acc: 0.6625\n",
      "Epoch 16/20\n",
      "71/71 [==============================] - 23s 325ms/step - loss: 1.0543 - acc: 0.7266 - val_loss: 1.2447 - val_acc: 0.6839\n",
      "Epoch 17/20\n",
      "71/71 [==============================] - 24s 335ms/step - loss: 1.0020 - acc: 0.7409 - val_loss: 1.2239 - val_acc: 0.6799\n",
      "Epoch 18/20\n",
      "71/71 [==============================] - 22s 306ms/step - loss: 0.9697 - acc: 0.7506 - val_loss: 1.1963 - val_acc: 0.6955\n",
      "Epoch 19/20\n",
      "71/71 [==============================] - 21s 299ms/step - loss: 0.9189 - acc: 0.7659 - val_loss: 1.1637 - val_acc: 0.7119\n",
      "Epoch 20/20\n",
      "71/71 [==============================] - 19s 270ms/step - loss: 0.8841 - acc: 0.7772 - val_loss: 1.1786 - val_acc: 0.7124\n"
     ]
    }
   ],
   "source": [
    "(X_train, y_train), (X_test, y_test) = reuters.load_data(num_words = 1000,\n",
    "                                                         test_split = 0.2)\n",
    "\n",
    "max_len = 100\n",
    "X_train = pad_sequences(X_train, maxlen = max_len) # 훈련용 뉴스 기사 패딩\n",
    "X_test = pad_sequences(X_test, maxlen = max_len) # 테스트용 뉴스 기사 패딩\n",
    "\n",
    "y_train = to_categorical(y_train) # 훈련용 뉴스 기사 레이블의 원-핫 인코딩\n",
    "y_test = to_categorical(y_test) # 테스트용 뉴스 기사 레이블의 원-핫 인코딩\n",
    "\n",
    "model = Sequential()\n",
    "model.add(Embedding(1000, 120))\n",
    "model.add(LSTM(120))\n",
    "model.add(Dense(46, activation = 'softmax'))\n",
    "\n",
    "model.compile(loss = 'categorical_crossentropy',\n",
    "              optimizer = 'adam',\n",
    "              metrics = ['acc'])\n",
    "\n",
    "history = model.fit(X_train,\n",
    "                    y_train,\n",
    "                    batch_size = 128,\n",
    "                    epochs = 20,\n",
    "                    validation_data = (X_test, y_test))"
   ]
  },
  {
   "cell_type": "markdown",
   "metadata": {},
   "source": [
    "## 1. 로이터 뉴스 데이터에서 뉴스 주제 46개를 구하는 프로그램을 작성하고, 데이터 1~50까지 각 뉴스의 주제를 구하여 인쇄하라."
   ]
  },
  {
   "cell_type": "code",
   "execution_count": 3,
   "metadata": {
    "scrolled": true
   },
   "outputs": [
    {
     "name": "stdout",
     "output_type": "stream",
     "text": [
      "[new_num, category_num]\n",
      "\n",
      "[[ 1  4]\n",
      " [ 2 11]\n",
      " [ 3  2]\n",
      " [ 4  5]\n",
      " [ 5  5]\n",
      " [ 6  4]\n",
      " [ 7  4]\n",
      " [ 8  4]\n",
      " [ 9  4]\n",
      " [10  4]\n",
      " [11  6]\n",
      " [12  5]\n",
      " [13  2]\n",
      " [14  4]\n",
      " [15  2]\n",
      " [16 12]\n",
      " [17 24]\n",
      " [18  4]\n",
      " [19 20]\n",
      " [20  4]\n",
      " [21  9]\n",
      " [22  4]\n",
      " [23  4]\n",
      " [24  4]\n",
      " [25 10]\n",
      " [26  4]\n",
      " [27  5]\n",
      " [28  7]\n",
      " [29 11]\n",
      " [30  4]\n",
      " [31  4]\n",
      " [32 11]\n",
      " [33 21]\n",
      " [34  2]\n",
      " [35 20]\n",
      " [36  5]\n",
      " [37 41]\n",
      " [38  2]\n",
      " [39  5]\n",
      " [40  4]\n",
      " [41 16]\n",
      " [42 22]\n",
      " [43  4]\n",
      " [44 35]\n",
      " [45  5]\n",
      " [46  5]\n",
      " [47  4]\n",
      " [48  5]\n",
      " [49  4]\n",
      " [50 12]]\n"
     ]
    }
   ],
   "source": [
    "subject_index = np.argwhere(y_test > 0)[:50]\n",
    "additional_1 = np.array([[1]])\n",
    "print(\"[new_num, category_num]\")\n",
    "print()\n",
    "print(subject_index + additional_1)"
   ]
  },
  {
   "cell_type": "markdown",
   "metadata": {},
   "source": [
    "## 2. 로이터 뉴스 프로그램을 LSTM을 사용하지 않고 Dense layer를 이용하여 주제를 구하는 프로그램을 작성하라. 이 프로그램의 정확도와 LSTM 버전 프로그램의 정확도를 비교하라."
   ]
  },
  {
   "cell_type": "markdown",
   "metadata": {},
   "source": [
    "### - LSTM 버전 프로그램의 정확도"
   ]
  },
  {
   "cell_type": "code",
   "execution_count": 4,
   "metadata": {},
   "outputs": [
    {
     "data": {
      "image/png": "[encoded data removed]",
      "text/plain": [
       "<Figure size 432x288 with 1 Axes>"
      ]
     },
     "metadata": {
      "needs_background": "light"
     },
     "output_type": "display_data"
    }
   ],
   "source": [
    "import matplotlib.pyplot as plt\n",
    "\n",
    "loss = history.history['loss']\n",
    "val_loss = history.history['val_loss']\n",
    "\n",
    "epochs = range(1, len(loss) + 1)\n",
    "\n",
    "plt.plot(epochs, loss, 'bo', label='Training loss')\n",
    "plt.plot(epochs, val_loss, 'b', label='Validation loss')\n",
    "plt.title('Training and validation loss')\n",
    "plt.xlabel('Epochs')\n",
    "plt.ylabel('Loss')\n",
    "plt.legend()\n",
    "\n",
    "plt.show()\n"
   ]
  },
  {
   "cell_type": "code",
   "execution_count": 5,
   "metadata": {},
   "outputs": [
    {
     "ename": "KeyError",
     "evalue": "'accuracy'",
     "output_type": "error",
     "traceback": [
      "\u001b[1;31m---------------------------------------------------------------------------\u001b[0m",
      "\u001b[1;31mKeyError\u001b[0m                                  Traceback (most recent call last)",
      "\u001b[1;32m<ipython-input-5-c4c4e64f7a3c>\u001b[0m in \u001b[0;36m<module>\u001b[1;34m\u001b[0m\n\u001b[0;32m      1\u001b[0m \u001b[0mplt\u001b[0m\u001b[1;33m.\u001b[0m\u001b[0mclf\u001b[0m\u001b[1;33m(\u001b[0m\u001b[1;33m)\u001b[0m\u001b[1;33m\u001b[0m\u001b[1;33m\u001b[0m\u001b[0m\n\u001b[0;32m      2\u001b[0m \u001b[1;33m\u001b[0m\u001b[0m\n\u001b[1;32m----> 3\u001b[1;33m \u001b[0macc\u001b[0m \u001b[1;33m=\u001b[0m \u001b[0mhistory\u001b[0m\u001b[1;33m.\u001b[0m\u001b[0mhistory\u001b[0m\u001b[1;33m[\u001b[0m\u001b[1;34m'accuracy'\u001b[0m\u001b[1;33m]\u001b[0m\u001b[1;33m\u001b[0m\u001b[1;33m\u001b[0m\u001b[0m\n\u001b[0m\u001b[0;32m      4\u001b[0m \u001b[0mval_acc\u001b[0m \u001b[1;33m=\u001b[0m \u001b[0mhistory\u001b[0m\u001b[1;33m.\u001b[0m\u001b[0mhistory\u001b[0m\u001b[1;33m[\u001b[0m\u001b[1;34m'val_accuracy'\u001b[0m\u001b[1;33m]\u001b[0m\u001b[1;33m\u001b[0m\u001b[1;33m\u001b[0m\u001b[0m\n\u001b[0;32m      5\u001b[0m \u001b[1;33m\u001b[0m\u001b[0m\n",
      "\u001b[1;31mKeyError\u001b[0m: 'accuracy'"
     ]
    },
    {
     "data": {
      "text/plain": [
       "<Figure size 432x288 with 0 Axes>"
      ]
     },
     "metadata": {},
     "output_type": "display_data"
    }
   ],
   "source": [
    "plt.clf()\n",
    "\n",
    "acc = history.history['accuracy']\n",
    "val_acc = history.history['val_accuracy']\n",
    "\n",
    "plt.plot(epochs, acc, 'bo', label='Training acc')\n",
    "plt.plot(epochs, val_acc, 'b', label='Validation acc')\n",
    "plt.title('Training and validation accuracy')\n",
    "plt.xlabel('Epochs')\n",
    "plt.ylabel('Accuracy')\n",
    "plt.legend()\n",
    "\n",
    "plt.show()"
   ]
  },
  {
   "cell_type": "code",
   "execution_count": 6,
   "metadata": {},
   "outputs": [
    {
     "name": "stdout",
     "output_type": "stream",
     "text": [
      "71/71 [==============================] - 3s 38ms/step - loss: 1.1786 - acc: 0.7124\n"
     ]
    }
   ],
   "source": [
    "results = model.evaluate(X_test, y_test)"
   ]
  },
  {
   "cell_type": "code",
   "execution_count": 7,
   "metadata": {},
   "outputs": [
    {
     "data": {
      "text/plain": [
       "[1.1786144971847534, 0.7123775482177734]"
      ]
     },
     "execution_count": 7,
     "metadata": {},
     "output_type": "execute_result"
    }
   ],
   "source": [
    "results"
   ]
  },
  {
   "cell_type": "markdown",
   "metadata": {},
   "source": [
    "### - LSTM을 사용하지 않고 Dense layer를 이용하여 주제를 구하는 프로그램"
   ]
  },
  {
   "cell_type": "code",
   "execution_count": null,
   "metadata": {},
   "outputs": [],
   "source": [
    "from keras.datasets import reuters\n",
    "import numpy as np\n",
    "from keras import models\n",
    "from keras import layers\n",
    "\n",
    "def vectorize_sequences(sequences, dimension=10000):\n",
    "    results = np.zeros((len(sequences), dimension))\n",
    "    for i, sequence in enumerate(sequences):\n",
    "        results[i, sequence] = 1.\n",
    "    return results\n",
    "\n",
    "def to_one_hot(labels, dimension=46):\n",
    "    results = np.zeros((len(labels), dimension))\n",
    "    \n",
    "    for i, label in enumerate(labels):\n",
    "        results[i, label] = 1.\n",
    "    return results\n",
    "\n",
    "(train_data, train_labels), (test_data, test_labels) = reuters.load_data(num_words=1000)\n",
    "\n",
    "x_train = vectorize_sequences(train_data) # 훈련 데이터 벡터 변환\n",
    "x_test = vectorize_sequences(test_data) # 테스트 데이터 벡터 변환\n",
    "\n",
    "one_hot_train_labels = to_one_hot(train_labels) # 훈련 레이블 벡터 변환\n",
    "one_hot_test_labels = to_one_hot(test_labels) # 테스트 레이블 벡터 변환\n",
    "\n",
    "\n",
    "model = models.Sequential()\n",
    "model.add(layers.Dense(64, activation='relu', input_shape=(10000,)))\n",
    "model.add(layers.Dense(64, activation='relu'))\n",
    "model.add(layers.Dense(46, activation='softmax'))\n",
    "\n",
    "\n",
    "model.compile(optimizer='rmsprop',\n",
    "              loss='categorical_crossentropy',\n",
    "              metrics=['accuracy'])\n",
    "\n",
    "x_val = x_train[:1000]\n",
    "partial_x_train = x_train[1000:]\n",
    "\n",
    "y_val = one_hot_train_labels[:1000]\n",
    "partial_y_train = one_hot_train_labels[1000:]\n",
    "\n",
    "history = model.fit(partial_x_train,\n",
    "                    partial_y_train,\n",
    "                    epochs = 20,\n",
    "                    batch_size = 512,\n",
    "                    validation_data = (x_val, y_val))"
   ]
  },
  {
   "cell_type": "markdown",
   "metadata": {},
   "source": [
    "### - Dense layer를 이용한 프로그램의 정확도"
   ]
  },
  {
   "cell_type": "code",
   "execution_count": null,
   "metadata": {},
   "outputs": [],
   "source": [
    "import matplotlib.pyplot as plt\n",
    "\n",
    "loss = history.history['loss']\n",
    "val_loss = history.history['val_loss']\n",
    "\n",
    "epochs = range(1, len(loss) + 1)\n",
    "\n",
    "plt.plot(epochs, loss, 'bo', label='Training loss')\n",
    "plt.plot(epochs, val_loss, 'b', label='Validation loss')\n",
    "plt.title('Training and validation loss')\n",
    "plt.xlabel('Epochs')\n",
    "plt.ylabel('Loss')\n",
    "plt.legend()\n",
    "\n",
    "plt.show()\n"
   ]
  },
  {
   "cell_type": "code",
   "execution_count": null,
   "metadata": {},
   "outputs": [],
   "source": [
    "plt.clf()\n",
    "\n",
    "acc = history.history['accuracy']\n",
    "val_acc = history.history['val_accuracy']\n",
    "\n",
    "plt.plot(epochs, acc, 'bo', label='Training acc')\n",
    "plt.plot(epochs, val_acc, 'b', label='Validation acc')\n",
    "plt.title('Training and validation accuracy')\n",
    "plt.xlabel('Epochs')\n",
    "plt.ylabel('Accuracy')\n",
    "plt.legend()\n",
    "\n",
    "plt.show()"
   ]
  },
  {
   "cell_type": "code",
   "execution_count": null,
   "metadata": {},
   "outputs": [],
   "source": [
    "results = model.evaluate(x_test, one_hot_test_labels)"
   ]
  },
  {
   "cell_type": "code",
   "execution_count": null,
   "metadata": {},
   "outputs": [],
   "source": [
    "results"
   ]
  },
  {
   "cell_type": "markdown",
   "metadata": {},
   "source": [
    "## 3. 11월 2일 수업 자료에서 IMDB 영화평 예측 프로그램에서 Dense 네트워크 구조를 1단으로 하면서 셀 숫자를 16, 32, 64개로 했을 때 결과의 정확도가 어떻게 바뀌는지 분석하라."
   ]
  },
  {
   "cell_type": "markdown",
   "metadata": {},
   "source": [
    "### - 셀 숫자를 16으로 했을 때"
   ]
  },
  {
   "cell_type": "code",
   "execution_count": null,
   "metadata": {},
   "outputs": [],
   "source": [
    "from keras.datasets import imdb\n",
    "(train_data, train_labels), (test_data, test_labels) = imdb.load_data(num_words = 10000)\n",
    "\n",
    "import numpy as np\n",
    "# 입력 텍스트 vectorization\n",
    "def vectorize_sequences(sequences, dimension = 10000):\n",
    "    results = np.zeros((len(sequences), dimension))\n",
    "    for i, sequence in enumerate(sequences):\n",
    "        results[i, sequence] = 1.\n",
    "    return results\n",
    "\n",
    "x_train = vectorize_sequences(train_data)\n",
    "x_test = vectorize_sequences(test_data)\n",
    "y_train = np.asarray(train_labels).astype('float32')\n",
    "y_test = np.asarray(test_labels).astype('float32')\n",
    "\n",
    "from keras import models\n",
    "from keras import layers\n",
    "\n",
    "model = models.Sequential()\n",
    "model.add(layers.Dense(16, activation = 'relu', input_shape = (10000, )))\n",
    "model.add(layers.Dense( 1, activation = 'sigmoid'))\n",
    "\n",
    "model.compile(optimizer = 'rmsprop',\n",
    "              loss = 'binary_crossentropy',\n",
    "              metrics = ['accuracy'])\n",
    "\n",
    "model.fit(x_train, y_train, epochs = 4, batch_size = 512)\n",
    "results = model.evaluate(x_test, y_test)"
   ]
  },
  {
   "cell_type": "markdown",
   "metadata": {},
   "source": [
    "### - 셀 숫자를 32로 했을 때"
   ]
  },
  {
   "cell_type": "code",
   "execution_count": null,
   "metadata": {},
   "outputs": [],
   "source": [
    "from keras.datasets import imdb\n",
    "(train_data, train_labels), (test_data, test_labels) = imdb.load_data(num_words = 10000)\n",
    "\n",
    "import numpy as np\n",
    "# 입력 텍스트 vectorization\n",
    "def vectorize_sequences(sequences, dimension = 10000):\n",
    "    results = np.zeros((len(sequences), dimension))\n",
    "    for i, sequence in enumerate(sequences):\n",
    "        results[i, sequence] = 1.\n",
    "    return results\n",
    "\n",
    "x_train = vectorize_sequences(train_data)\n",
    "x_test = vectorize_sequences(test_data)\n",
    "y_train = np.asarray(train_labels).astype('float32')\n",
    "y_test = np.asarray(test_labels).astype('float32')\n",
    "\n",
    "from keras import models\n",
    "from keras import layers\n",
    "\n",
    "model = models.Sequential()\n",
    "model.add(layers.Dense(32, activation = 'relu', input_shape = (10000, )))\n",
    "model.add(layers.Dense( 1, activation = 'sigmoid'))\n",
    "\n",
    "model.compile(optimizer = 'rmsprop',\n",
    "              loss = 'binary_crossentropy',\n",
    "              metrics = ['accuracy'])\n",
    "\n",
    "model.fit(x_train, y_train, epochs = 4, batch_size = 512)\n",
    "results = model.evaluate(x_test, y_test)"
   ]
  },
  {
   "cell_type": "markdown",
   "metadata": {},
   "source": [
    "### - 셀 숫자를 64로 했을 때"
   ]
  },
  {
   "cell_type": "code",
   "execution_count": null,
   "metadata": {},
   "outputs": [],
   "source": [
    "from keras.datasets import imdb\n",
    "(train_data, train_labels), (test_data, test_labels) = imdb.load_data(num_words = 10000)\n",
    "\n",
    "import numpy as np\n",
    "# 입력 텍스트 vectorization\n",
    "def vectorize_sequences(sequences, dimension = 10000):\n",
    "    results = np.zeros((len(sequences), dimension))\n",
    "    for i, sequence in enumerate(sequences):\n",
    "        results[i, sequence] = 1.\n",
    "    return results\n",
    "\n",
    "x_train = vectorize_sequences(train_data)\n",
    "x_test = vectorize_sequences(test_data)\n",
    "y_train = np.asarray(train_labels).astype('float32')\n",
    "y_test = np.asarray(test_labels).astype('float32')\n",
    "\n",
    "from keras import models\n",
    "from keras import layers\n",
    "\n",
    "model = models.Sequential()\n",
    "model.add(layers.Dense(64, activation = 'relu', input_shape = (10000, )))\n",
    "model.add(layers.Dense( 1, activation = 'sigmoid'))\n",
    "\n",
    "model.compile(optimizer = 'rmsprop',\n",
    "              loss = 'binary_crossentropy',\n",
    "              metrics = ['accuracy'])\n",
    "\n",
    "model.fit(x_train, y_train, epochs = 4, batch_size = 512)\n",
    "results = model.evaluate(x_test, y_test)"
   ]
  }
 ],
 "metadata": {
  "kernelspec": {
   "display_name": "Python 3",
   "language": "python",
   "name": "python3"
  },
  "language_info": {
   "codemirror_mode": {
    "name": "ipython",
    "version": 3
   },
   "file_extension": ".py",
   "mimetype": "text/x-python",
   "name": "python",
   "nbconvert_exporter": "python",
   "pygments_lexer": "ipython3",
   "version": "3.7.6"
  }
 },
 "nbformat": 4,
 "nbformat_minor": 4
}
