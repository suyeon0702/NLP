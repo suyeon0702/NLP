{
 "cells": [
  {
   "cell_type": "markdown",
   "metadata": {},
   "source": [
    "### Keras에서 입력 텍스트 처리 함수\n",
    "- Tokenizer: 입력 텍스트를 숫자로 변환하는 기능을 수행\n",
    "- tokenizer등을 사용하여 구한 sequences는 숫자 리스트로 구성되어 있음\n",
    "- 전체 단어 리스트는 word_index 함수로 얻을 수 있음"
   ]
  },
  {
   "cell_type": "code",
   "execution_count": 1,
   "metadata": {},
   "outputs": [
    {
     "name": "stdout",
     "output_type": "stream",
     "text": [
      "sequences :  [1, 2, 3, 4, 6, 7]\n",
      "word_index :  {'the': 1, 'earth': 2, 'is': 3, 'an': 4, 'awesome': 5, 'place': 6, 'live': 7}\n"
     ]
    }
   ],
   "source": [
    "# Tokenizer 적용 사례\n",
    "from tensorflow.keras.preprocessing.text import Tokenizer\n",
    "t = Tokenizer()\n",
    "fit_text = \"The earth is an awesome place live\"\n",
    "t.fit_on_texts([fit_text])\n",
    "\n",
    "test_text = \"The earth is an great place live\"\n",
    "sequences = t.texts_to_sequences([test_text])[0]\n",
    "print(\"sequences : \", sequences) # great는 단어 집합에 없으므로 출력되지 않음\n",
    "print(\"word_index : \", t.word_index) # 단어 집합(vocabulary) 출력"
   ]
  },
  {
   "cell_type": "markdown",
   "metadata": {},
   "source": [
    "### Keras에서의 텍스트 시퀀스 처리\n",
    "- 신경망 입력 텍스트를 일정한 길이로 만들려면 pad_sequences 함수를 이용\n",
    "- 이 함수는 sequence의 최대 길이를 지정하여 이보다 긴 텍스트는 앞 또는 뒤를 자르고, 짧은 텍스트는 앞에 0을 채움"
   ]
  },
  {
   "cell_type": "code",
   "execution_count": null,
   "metadata": {},
   "outputs": [],
   "source": [
    "# 최대 길이를 100으로 지정하고 초과하면 각 시퀀스의 앞 쪽을 자른다\n",
    "X_prime = sequence.pad_sequences(X, maxlen = 100, truncating = 'pre')\n",
    "\n",
    "# 최대 길이를 100으로 지정하고 초과하면 각 시퀀스의 뒷 쪽을 자른다\n",
    "X_prime = sequence.pad_sequences(X, maxlen = 100, truncating = 'post')"
   ]
  },
  {
   "cell_type": "code",
   "execution_count": 2,
   "metadata": {},
   "outputs": [
    {
     "data": {
      "text/plain": [
       "array([[1, 2, 3],\n",
       "       [4, 5, 6],\n",
       "       [0, 7, 8]])"
      ]
     },
     "execution_count": 2,
     "metadata": {},
     "output_type": "execute_result"
    }
   ],
   "source": [
    "# pad_sequences 적용 사례\n",
    "from tensorflow.keras.preprocessing.sequence import pad_sequences\n",
    "pad_sequences([[1, 2, 3], [3, 4, 5, 6], [7, 8]], maxlen = 3, padding = 'pre')\n"
   ]
  },
  {
   "cell_type": "markdown",
   "metadata": {},
   "source": [
    "### 워드 임베딩\n",
    "- 입력 텍스트를 밀집 벡터로 표현하는 수단으로 Keras에서는 Embedding 레이어를 제공\n",
    "- Embedding 층은 정수 인코딩이 된 단어들을 임베딩 벡터로 변환\n",
    "- Embedding 호출시 단어수와 임베딩 벡터 길이를 입력으로 전달\n",
    "- Embedding 출력은 (단어 수, 벡터 길이, 입력 시퀀스 길이)의 3D 텐서를 리턴\n",
    "- Word2Vec과 같은 실제 임베딩 벡터를 사용할 수도 있지만, 여기서는 자체적으로 생성하는 벡터임."
   ]
  },
  {
   "cell_type": "code",
   "execution_count": 3,
   "metadata": {},
   "outputs": [
    {
     "ename": "NameError",
     "evalue": "name 'Embedding' is not defined",
     "output_type": "error",
     "traceback": [
      "\u001b[1;31m---------------------------------------------------------------------------\u001b[0m",
      "\u001b[1;31mNameError\u001b[0m                                 Traceback (most recent call last)",
      "\u001b[1;32m<ipython-input-3-f3f6251dfa42>\u001b[0m in \u001b[0;36m<module>\u001b[1;34m\u001b[0m\n\u001b[0;32m      8\u001b[0m \u001b[1;33m\u001b[0m\u001b[0m\n\u001b[0;32m      9\u001b[0m \u001b[1;31m# 위 데이터가 아래의 임베딩 층의 입력이 된다.\u001b[0m\u001b[1;33m\u001b[0m\u001b[1;33m\u001b[0m\u001b[1;33m\u001b[0m\u001b[0m\n\u001b[1;32m---> 10\u001b[1;33m \u001b[0mEmbedding\u001b[0m\u001b[1;33m(\u001b[0m\u001b[1;36m7\u001b[0m\u001b[1;33m,\u001b[0m \u001b[1;36m2\u001b[0m\u001b[1;33m,\u001b[0m \u001b[0minput_length\u001b[0m \u001b[1;33m=\u001b[0m \u001b[1;36m5\u001b[0m\u001b[1;33m)\u001b[0m\u001b[1;33m\u001b[0m\u001b[1;33m\u001b[0m\u001b[0m\n\u001b[0m\u001b[0;32m     11\u001b[0m \u001b[1;33m\u001b[0m\u001b[0m\n\u001b[0;32m     12\u001b[0m \u001b[1;31m# 7은 단어의 개수. 즉, 단어 집합(vocabulary)의 크기이다.\u001b[0m\u001b[1;33m\u001b[0m\u001b[1;33m\u001b[0m\u001b[1;33m\u001b[0m\u001b[0m\n",
      "\u001b[1;31mNameError\u001b[0m: name 'Embedding' is not defined"
     ]
    }
   ],
   "source": [
    "# 워드 임베딩 사례 # 임베딩 코드 가져와야 할 거 같은데 # 오류남.\n",
    "\n",
    "# 문장 토큰화와 단어 토큰화\n",
    "text = [['Hope', 'to', 'see', 'you', 'soon'], ['Nice', 'to', 'see', 'you', 'again']]\n",
    "\n",
    "# 각 단어에 대한 정수 인코딩\n",
    "text = [[0, 1, 2, 3, 4], [5, 1, 2, 3, 6]]\n",
    "\n",
    "# 위 데이터가 아래의 임베딩 층의 입력이 된다.\n",
    "Embedding(7, 2, input_length = 5)\n",
    "\n",
    "# 7은 단어의 개수. 즉, 단어 집합(vocabulary)의 크기이다.\n",
    "# 2는 임메딩한 후의 벡터의 크기이다.\n",
    "# 5는 각 입력 시퀀스의 길이. 즉, input_length이다.\n",
    "# 각 정수는 아래의 테이블의 인덱스로 사용되며 Embedding()은 각 단어에 대해 임베딩 벡터를 리턴\n"
   ]
  },
  {
   "cell_type": "code",
   "execution_count": null,
   "metadata": {},
   "outputs": [],
   "source": [
    "# 스팸 메일 예제\n",
    "# 로이터 뉴스 예제"
   ]
  },
  {
   "cell_type": "code",
   "execution_count": null,
   "metadata": {},
   "outputs": [],
   "source": [
    "# B\n",
    "# 라이브 베이즈 분류\n",
    "# 뉴스 그룹 데이터 분류\n",
    "# 영화 리뷰 분석"
   ]
  }
 ],
 "metadata": {
  "kernelspec": {
   "display_name": "Python 3",
   "language": "python",
   "name": "python3"
  },
  "language_info": {
   "codemirror_mode": {
    "name": "ipython",
    "version": 3
   },
   "file_extension": ".py",
   "mimetype": "text/x-python",
   "name": "python",
   "nbconvert_exporter": "python",
   "pygments_lexer": "ipython3",
   "version": "3.7.6"
  }
 },
 "nbformat": 4,
 "nbformat_minor": 4
}
