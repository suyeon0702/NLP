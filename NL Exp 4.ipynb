{
 "cells": [
  {
   "cell_type": "markdown",
   "metadata": {},
   "source": [
    "## 자연어 처리 Exp 4\n",
    "## 201800839 김수연"
   ]
  },
  {
   "cell_type": "code",
   "execution_count": 1,
   "metadata": {},
   "outputs": [],
   "source": [
    "import numpy as np\n",
    "import pandas as pd\n",
    "import re\n",
    "import shutil\n",
    "import os\n",
    "import unicodedata\n",
    "import urllib3\n",
    "import zipfile\n",
    "import tensorflow as tf\n",
    "from tensorflow.keras.preprocessing.text import Tokenizer\n",
    "from tensorflow.keras.preprocessing.sequence import pad_sequences"
   ]
  },
  {
   "cell_type": "code",
   "execution_count": 2,
   "metadata": {},
   "outputs": [],
   "source": [
    "http = urllib3.PoolManager()\n",
    "url = 'http://www.manythings.org/anki/fra-eng.zip'\n",
    "filename = 'fra-eng.zip'\n",
    "path = os.getcwd()\n",
    "zipfilename = os.path.join(path, filename)\n",
    "with http.request('GET', url, preload_content = False) as r, open(zipfilename, 'wb') as out_file:\n",
    "    shutil.copyfileobj(r, out_file)\n",
    "\n",
    "with zipfile.ZipFile(zipfilename, 'r') as zip_ref:\n",
    "    zip_ref.extractall(path)"
   ]
  },
  {
   "cell_type": "code",
   "execution_count": 3,
   "metadata": {},
   "outputs": [],
   "source": [
    "num_samples = 33000"
   ]
  },
  {
   "cell_type": "code",
   "execution_count": 4,
   "metadata": {},
   "outputs": [],
   "source": [
    "def unicode_to_ascii(s):\n",
    "    return ''.join(c for c in unicodedata.normalize('NFD', s)\n",
    "                  if unicodedata.category(c) != 'Mn')"
   ]
  },
  {
   "cell_type": "code",
   "execution_count": 5,
   "metadata": {},
   "outputs": [],
   "source": [
    "def preprocess_sentence(sent):\n",
    "    sent = unicode_to_ascii(sent.lower())\n",
    "    \n",
    "    sent = re.sub(r\"([?.!,¿])\", r\" \\1\", sent)\n",
    "    \n",
    "    sent = re.sub(r\"[^a-zA-Z!.?]+\", r\" \", sent)\n",
    "    \n",
    "    sent = re.sub(r\"\\s+\", \" \", sent)\n",
    "    \n",
    "    return sent"
   ]
  },
  {
   "cell_type": "code",
   "execution_count": 6,
   "metadata": {},
   "outputs": [
    {
     "name": "stdout",
     "output_type": "stream",
     "text": [
      "have you had dinner ?\n",
      "b'avez vous deja dine ?'\n"
     ]
    }
   ],
   "source": [
    "en_sent = u\"Have you had dinner?\"\n",
    "fr_sent = u\"Avez-vous déjà diné?\"\n",
    "print(preprocess_sentence(en_sent))\n",
    "print(preprocess_sentence(fr_sent).encode('utf-8'))"
   ]
  },
  {
   "cell_type": "code",
   "execution_count": 7,
   "metadata": {},
   "outputs": [],
   "source": [
    "def load_preprocessed_data():\n",
    "    encoder_input, decoder_input, decoder_target = [], [], []\n",
    "    \n",
    "    with open(\"fra.txt\", \"r\", encoding = 'utf8') as lines:\n",
    "        for i, line in enumerate(lines):\n",
    "            src_line, tar_line, _ = line.strip().split('\\t')\n",
    "            \n",
    "            src_line_input = [w for w in preprocess_sentence(src_line).split()]\n",
    "            \n",
    "            tar_line = preprocess_sentence(tar_line)\n",
    "            tar_line_input = [w for w in (\"<sos> \" + tar_line).split()]\n",
    "            tar_line_target = [w for w in (tar_line + \" <eos>\").split()]\n",
    "            \n",
    "            encoder_input.append(src_line_input)\n",
    "            decoder_input.append(tar_line_input)\n",
    "            decoder_target.append(tar_line_target)\n",
    "            \n",
    "            if i == num_samples - 1:\n",
    "                break\n",
    "                \n",
    "    return encoder_input, decoder_input, decoder_target"
   ]
  },
  {
   "cell_type": "code",
   "execution_count": 8,
   "metadata": {},
   "outputs": [
    {
     "name": "stdout",
     "output_type": "stream",
     "text": [
      "[['go', '.'], ['hi', '.'], ['hi', '.'], ['run', '!'], ['run', '!']]\n",
      "[['<sos>', 'va', '!'], ['<sos>', 'salut', '!'], ['<sos>', 'salut', '.'], ['<sos>', 'cours', '!'], ['<sos>', 'courez', '!']]\n",
      "[['va', '!', '<eos>'], ['salut', '!', '<eos>'], ['salut', '.', '<eos>'], ['cours', '!', '<eos>'], ['courez', '!', '<eos>']]\n"
     ]
    }
   ],
   "source": [
    "sents_en_in, sents_fra_in, sents_fra_out = load_preprocessed_data()\n",
    "print(sents_en_in[:5])\n",
    "print(sents_fra_in[:5])\n",
    "print(sents_fra_out[:5])"
   ]
  },
  {
   "cell_type": "code",
   "execution_count": 9,
   "metadata": {},
   "outputs": [],
   "source": [
    "tokenizer_en = Tokenizer(filters = \"\", lower = False)\n",
    "tokenizer_en.fit_on_texts(sents_en_in)\n",
    "encoder_input = tokenizer_en.texts_to_sequences(sents_en_in)\n",
    "\n",
    "tokenizer_fra = Tokenizer(filters = \"\", lower = False)\n",
    "tokenizer_fra.fit_on_texts(sents_fra_in)\n",
    "tokenizer_fra.fit_on_texts(sents_fra_out)\n",
    "decoder_input = tokenizer_fra.texts_to_sequences(sents_fra_in)\n",
    "decoder_target = tokenizer_fra.texts_to_sequences(sents_fra_out)"
   ]
  },
  {
   "cell_type": "code",
   "execution_count": 10,
   "metadata": {},
   "outputs": [],
   "source": [
    "encoder_input = pad_sequences(encoder_input, padding = \"post\")\n",
    "decoder_input = pad_sequences(decoder_input, padding = \"post\")\n",
    "decoder_target = pad_sequences(decoder_target, padding = \"post\")"
   ]
  },
  {
   "cell_type": "code",
   "execution_count": 11,
   "metadata": {},
   "outputs": [
    {
     "name": "stdout",
     "output_type": "stream",
     "text": [
      "(33000, 8)\n",
      "(33000, 16)\n",
      "(33000, 16)\n"
     ]
    }
   ],
   "source": [
    "print(encoder_input.shape)\n",
    "print(decoder_input.shape)\n",
    "print(decoder_target.shape)"
   ]
  },
  {
   "cell_type": "code",
   "execution_count": 12,
   "metadata": {},
   "outputs": [
    {
     "name": "stdout",
     "output_type": "stream",
     "text": [
      "영어 단어 집합의 크기 : 4678, 프랑스어 단어 집합의 크기 : 8032\n"
     ]
    }
   ],
   "source": [
    "src_vocab_size = len(tokenizer_en.word_index) + 1\n",
    "tar_vocab_size = len(tokenizer_fra.word_index) + 1\n",
    "print(\"영어 단어 집합의 크기 : {:d}, 프랑스어 단어 집합의 크기 : {:d}\".format(src_vocab_size, tar_vocab_size))\n"
   ]
  },
  {
   "cell_type": "code",
   "execution_count": 13,
   "metadata": {},
   "outputs": [],
   "source": [
    "src_to_index = tokenizer_en.word_index\n",
    "index_to_src = tokenizer_en.index_word\n",
    "\n",
    "tar_to_index = tokenizer_fra.word_index\n",
    "index_to_tar = tokenizer_fra.index_word"
   ]
  },
  {
   "cell_type": "code",
   "execution_count": 14,
   "metadata": {},
   "outputs": [
    {
     "name": "stdout",
     "output_type": "stream",
     "text": [
      "[17653 24948 26770 ...  5351 31728 13102]\n"
     ]
    }
   ],
   "source": [
    "indices = np.arange(encoder_input.shape[0])\n",
    "np.random.shuffle(indices)\n",
    "print(indices)"
   ]
  },
  {
   "cell_type": "code",
   "execution_count": 15,
   "metadata": {},
   "outputs": [],
   "source": [
    "encoder_input = encoder_input[indices]\n",
    "decoder_input = decoder_input[indices]\n",
    "decoder_target = decoder_target[indices]"
   ]
  },
  {
   "cell_type": "code",
   "execution_count": 16,
   "metadata": {},
   "outputs": [
    {
     "data": {
      "text/plain": [
       "array([ 20, 117,  11, 165,   1,   0,   0,   0])"
      ]
     },
     "execution_count": 16,
     "metadata": {},
     "output_type": "execute_result"
    }
   ],
   "source": [
    "encoder_input[839]"
   ]
  },
  {
   "cell_type": "code",
   "execution_count": 17,
   "metadata": {},
   "outputs": [
    {
     "data": {
      "text/plain": [
       "array([  2,  25,  26,   5,  10, 314,  12,   0,   0,   0,   0,   0,   0,\n",
       "         0,   0,   0])"
      ]
     },
     "execution_count": 17,
     "metadata": {},
     "output_type": "execute_result"
    }
   ],
   "source": [
    "decoder_input[839]"
   ]
  },
  {
   "cell_type": "code",
   "execution_count": 18,
   "metadata": {},
   "outputs": [
    {
     "data": {
      "text/plain": [
       "array([ 25,  26,   5,  10, 314,  12,   3,   0,   0,   0,   0,   0,   0,\n",
       "         0,   0,   0])"
      ]
     },
     "execution_count": 18,
     "metadata": {},
     "output_type": "execute_result"
    }
   ],
   "source": [
    "decoder_target[839]"
   ]
  },
  {
   "cell_type": "code",
   "execution_count": 19,
   "metadata": {},
   "outputs": [
    {
     "name": "stdout",
     "output_type": "stream",
     "text": [
      "3300\n"
     ]
    }
   ],
   "source": [
    "n_of_val = int(33000*0.1)\n",
    "print(n_of_val)"
   ]
  },
  {
   "cell_type": "code",
   "execution_count": 20,
   "metadata": {},
   "outputs": [],
   "source": [
    "encoder_input_train = encoder_input[:-n_of_val]\n",
    "decoder_input_train = decoder_input[:-n_of_val]\n",
    "decoder_target_train = decoder_target[:-n_of_val]\n",
    "\n",
    "encoder_input_test = encoder_input[-n_of_val:]\n",
    "decoder_input_test = decoder_input[-n_of_val:]\n",
    "decoder_target_test = decoder_target[-n_of_val:]"
   ]
  },
  {
   "cell_type": "code",
   "execution_count": 21,
   "metadata": {},
   "outputs": [
    {
     "name": "stdout",
     "output_type": "stream",
     "text": [
      "(29700, 8)\n",
      "(29700, 16)\n",
      "(29700, 16)\n",
      "(3300, 8)\n",
      "(3300, 16)\n",
      "(3300, 16)\n"
     ]
    }
   ],
   "source": [
    "print(encoder_input_train.shape)\n",
    "print(decoder_input_train.shape)\n",
    "print(decoder_target_train.shape)\n",
    "print(encoder_input_test.shape)\n",
    "print(decoder_input_test.shape)\n",
    "print(decoder_target_test.shape)"
   ]
  },
  {
   "cell_type": "code",
   "execution_count": 22,
   "metadata": {},
   "outputs": [],
   "source": [
    "from tensorflow.keras.layers import Input, LSTM, Embedding, Dense, Masking\n",
    "from tensorflow.keras.models import Model"
   ]
  },
  {
   "cell_type": "code",
   "execution_count": 23,
   "metadata": {},
   "outputs": [],
   "source": [
    "latent_dim = 50"
   ]
  },
  {
   "cell_type": "code",
   "execution_count": 24,
   "metadata": {},
   "outputs": [],
   "source": [
    "# 인코더\n",
    "encoder_inputs = Input(shape = (None, ))\n",
    "enc_emb = Embedding(src_vocab_size, latent_dim)(encoder_inputs)\n",
    "enc_masking = Masking(mask_value = 0.0)(enc_emb)\n",
    "encoder_lstm = LSTM(latent_dim, return_state = True)\n",
    "encoder_outputs, state_h, state_c = encoder_lstm(enc_masking)\n",
    "encoder_states = [state_h, state_c]"
   ]
  },
  {
   "cell_type": "code",
   "execution_count": 25,
   "metadata": {},
   "outputs": [],
   "source": [
    "# 디코더\n",
    "decoder_inputs = Input(shape = (None, ))\n",
    "dec_emb_layer = Embedding(tar_vocab_size, latent_dim)\n",
    "dec_emb = dec_emb_layer(decoder_inputs)\n",
    "dec_masking = Masking(mask_value = 0.0)(dec_emb)\n",
    "\n",
    "decoder_lstm = LSTM(latent_dim, return_sequences = True, return_state = True)\n",
    "\n",
    "decoder_outputs, _, _ = decoder_lstm(dec_masking, initial_state = encoder_states)\n",
    "\n",
    "decoder_dense = Dense(tar_vocab_size, activation = 'softmax')\n",
    "decoder_outputs = decoder_dense(decoder_outputs)"
   ]
  },
  {
   "cell_type": "code",
   "execution_count": 26,
   "metadata": {},
   "outputs": [],
   "source": [
    "model = Model([encoder_inputs, decoder_inputs], decoder_outputs)"
   ]
  },
  {
   "cell_type": "code",
   "execution_count": 27,
   "metadata": {},
   "outputs": [],
   "source": [
    "model.compile(optimizer = 'rmsprop',\n",
    "              loss = 'sparse_categorical_crossentropy',\n",
    "              metrics = ['acc'])"
   ]
  },
  {
   "cell_type": "code",
   "execution_count": 28,
   "metadata": {},
   "outputs": [
    {
     "name": "stdout",
     "output_type": "stream",
     "text": [
      "Model: \"functional_1\"\n",
      "__________________________________________________________________________________________________\n",
      "Layer (type)                    Output Shape         Param #     Connected to                     \n",
      "==================================================================================================\n",
      "input_1 (InputLayer)            [(None, None)]       0                                            \n",
      "__________________________________________________________________________________________________\n",
      "input_2 (InputLayer)            [(None, None)]       0                                            \n",
      "__________________________________________________________________________________________________\n",
      "embedding (Embedding)           (None, None, 50)     233900      input_1[0][0]                    \n",
      "__________________________________________________________________________________________________\n",
      "embedding_1 (Embedding)         (None, None, 50)     401600      input_2[0][0]                    \n",
      "__________________________________________________________________________________________________\n",
      "masking (Masking)               (None, None, 50)     0           embedding[0][0]                  \n",
      "__________________________________________________________________________________________________\n",
      "masking_1 (Masking)             (None, None, 50)     0           embedding_1[0][0]                \n",
      "__________________________________________________________________________________________________\n",
      "lstm (LSTM)                     [(None, 50), (None,  20200       masking[0][0]                    \n",
      "__________________________________________________________________________________________________\n",
      "lstm_1 (LSTM)                   [(None, None, 50), ( 20200       masking_1[0][0]                  \n",
      "                                                                 lstm[0][1]                       \n",
      "                                                                 lstm[0][2]                       \n",
      "__________________________________________________________________________________________________\n",
      "dense (Dense)                   (None, None, 8032)   409632      lstm_1[0][0]                     \n",
      "==================================================================================================\n",
      "Total params: 1,085,532\n",
      "Trainable params: 1,085,532\n",
      "Non-trainable params: 0\n",
      "__________________________________________________________________________________________________\n"
     ]
    }
   ],
   "source": [
    "model.summary()"
   ]
  },
  {
   "cell_type": "code",
   "execution_count": 29,
   "metadata": {},
   "outputs": [
    {
     "name": "stdout",
     "output_type": "stream",
     "text": [
      "Epoch 1/50\n",
      "233/233 [==============================] - 192s 823ms/step - loss: 3.2029 - acc: 0.6097 - val_loss: 1.9227 - val_acc: 0.6810\n",
      "Epoch 2/50\n",
      "233/233 [==============================] - 198s 849ms/step - loss: 1.7209 - acc: 0.7304 - val_loss: 1.6315 - val_acc: 0.7387\n",
      "Epoch 3/50\n",
      "233/233 [==============================] - 192s 824ms/step - loss: 1.5461 - acc: 0.7480 - val_loss: 1.5258 - val_acc: 0.7506\n",
      "Epoch 4/50\n",
      "233/233 [==============================] - 193s 830ms/step - loss: 1.4408 - acc: 0.7650 - val_loss: 1.4282 - val_acc: 0.7742\n",
      "Epoch 5/50\n",
      "233/233 [==============================] - 198s 849ms/step - loss: 1.3569 - acc: 0.7819 - val_loss: 1.3751 - val_acc: 0.7822\n",
      "Epoch 6/50\n",
      "233/233 [==============================] - 206s 883ms/step - loss: 1.2888 - acc: 0.7907 - val_loss: 1.3055 - val_acc: 0.7912\n",
      "Epoch 7/50\n",
      "233/233 [==============================] - 202s 868ms/step - loss: 1.2381 - acc: 0.7967 - val_loss: 1.2653 - val_acc: 0.7964\n",
      "Epoch 8/50\n",
      "233/233 [==============================] - 197s 845ms/step - loss: 1.1959 - acc: 0.8030 - val_loss: 1.2414 - val_acc: 0.7999\n",
      "Epoch 9/50\n",
      "233/233 [==============================] - 199s 854ms/step - loss: 1.1586 - acc: 0.8087 - val_loss: 1.2032 - val_acc: 0.8061\n",
      "Epoch 10/50\n",
      "233/233 [==============================] - 215s 922ms/step - loss: 1.1256 - acc: 0.8137 - val_loss: 1.1859 - val_acc: 0.8058\n",
      "Epoch 11/50\n",
      "233/233 [==============================] - 228s 979ms/step - loss: 1.0957 - acc: 0.8175 - val_loss: 1.1577 - val_acc: 0.8117\n",
      "Epoch 12/50\n",
      "233/233 [==============================] - 195s 835ms/step - loss: 1.0683 - acc: 0.8213 - val_loss: 1.1289 - val_acc: 0.8170\n",
      "Epoch 13/50\n",
      "233/233 [==============================] - 179s 767ms/step - loss: 1.0440 - acc: 0.8247 - val_loss: 1.1066 - val_acc: 0.8212\n",
      "Epoch 14/50\n",
      "233/233 [==============================] - 179s 769ms/step - loss: 1.0214 - acc: 0.8276 - val_loss: 1.0984 - val_acc: 0.8205\n",
      "Epoch 15/50\n",
      "233/233 [==============================] - 180s 775ms/step - loss: 1.0001 - acc: 0.8303 - val_loss: 1.0834 - val_acc: 0.8241\n",
      "Epoch 16/50\n",
      "233/233 [==============================] - 182s 780ms/step - loss: 0.9804 - acc: 0.8334 - val_loss: 1.0610 - val_acc: 0.8273\n",
      "Epoch 17/50\n",
      "233/233 [==============================] - 180s 771ms/step - loss: 0.9623 - acc: 0.8356 - val_loss: 1.0635 - val_acc: 0.8241\n",
      "Epoch 18/50\n",
      "233/233 [==============================] - 181s 775ms/step - loss: 0.9455 - acc: 0.8379 - val_loss: 1.0427 - val_acc: 0.8291\n",
      "Epoch 19/50\n",
      "233/233 [==============================] - 181s 777ms/step - loss: 0.9302 - acc: 0.8398 - val_loss: 1.0291 - val_acc: 0.8297\n",
      "Epoch 20/50\n",
      "233/233 [==============================] - 181s 776ms/step - loss: 0.9155 - acc: 0.8420 - val_loss: 1.0165 - val_acc: 0.8322\n",
      "Epoch 21/50\n",
      "233/233 [==============================] - 183s 787ms/step - loss: 0.9021 - acc: 0.8441 - val_loss: 1.0146 - val_acc: 0.8326\n",
      "Epoch 22/50\n",
      "233/233 [==============================] - 17195s 74s/step - loss: 0.8895 - acc: 0.8457 - val_loss: 1.0062 - val_acc: 0.8352\n",
      "Epoch 23/50\n",
      "233/233 [==============================] - 181s 776ms/step - loss: 0.8775 - acc: 0.8478 - val_loss: 0.9941 - val_acc: 0.8366\n",
      "Epoch 24/50\n",
      "233/233 [==============================] - 173s 740ms/step - loss: 0.8653 - acc: 0.8493 - val_loss: 0.9912 - val_acc: 0.8368\n",
      "Epoch 25/50\n",
      "233/233 [==============================] - 170s 731ms/step - loss: 0.8533 - acc: 0.8511 - val_loss: 0.9943 - val_acc: 0.8357\n",
      "Epoch 26/50\n",
      "233/233 [==============================] - 172s 740ms/step - loss: 0.8411 - acc: 0.8530 - val_loss: 0.9721 - val_acc: 0.8391\n",
      "Epoch 27/50\n",
      "233/233 [==============================] - 176s 756ms/step - loss: 0.8287 - acc: 0.8548 - val_loss: 0.9631 - val_acc: 0.8401\n",
      "Epoch 28/50\n",
      "233/233 [==============================] - 175s 750ms/step - loss: 0.8171 - acc: 0.8563 - val_loss: 0.9513 - val_acc: 0.8419\n",
      "Epoch 29/50\n",
      "233/233 [==============================] - 175s 752ms/step - loss: 0.8065 - acc: 0.8578 - val_loss: 0.9536 - val_acc: 0.8413\n",
      "Epoch 30/50\n",
      "233/233 [==============================] - 185s 794ms/step - loss: 0.7968 - acc: 0.8595 - val_loss: 0.9469 - val_acc: 0.8432\n",
      "Epoch 31/50\n",
      "233/233 [==============================] - 2264s 10s/step - loss: 0.7883 - acc: 0.8609 - val_loss: 0.9340 - val_acc: 0.8447\n",
      "Epoch 32/50\n",
      "233/233 [==============================] - 251s 1s/step - loss: 0.7802 - acc: 0.8626 - val_loss: 0.9413 - val_acc: 0.8420\n",
      "Epoch 33/50\n",
      "233/233 [==============================] - 250s 1s/step - loss: 0.7722 - acc: 0.8638 - val_loss: 0.9462 - val_acc: 0.8416\n",
      "Epoch 34/50\n",
      "233/233 [==============================] - 253s 1s/step - loss: 0.7649 - acc: 0.8649 - val_loss: 0.9415 - val_acc: 0.8438\n",
      "Epoch 35/50\n",
      "233/233 [==============================] - 262s 1s/step - loss: 0.7577 - acc: 0.8664 - val_loss: 0.9279 - val_acc: 0.8462\n",
      "Epoch 36/50\n",
      "233/233 [==============================] - 270s 1s/step - loss: 0.7509 - acc: 0.8675 - val_loss: 0.9181 - val_acc: 0.8485\n",
      "Epoch 37/50\n",
      "233/233 [==============================] - 250s 1s/step - loss: 0.7443 - acc: 0.8689 - val_loss: 0.9326 - val_acc: 0.8445\n",
      "Epoch 38/50\n",
      "233/233 [==============================] - 252s 1s/step - loss: 0.7381 - acc: 0.8703 - val_loss: 0.9165 - val_acc: 0.8485\n",
      "Epoch 39/50\n",
      "233/233 [==============================] - 250s 1s/step - loss: 0.7319 - acc: 0.8717 - val_loss: 0.9183 - val_acc: 0.8486\n",
      "Epoch 40/50\n",
      "233/233 [==============================] - 249s 1s/step - loss: 0.7258 - acc: 0.8728 - val_loss: 0.9155 - val_acc: 0.8482\n",
      "Epoch 41/50\n",
      "233/233 [==============================] - 249s 1s/step - loss: 0.7204 - acc: 0.8740 - val_loss: 0.9269 - val_acc: 0.8456\n",
      "Epoch 42/50\n",
      "233/233 [==============================] - 257s 1s/step - loss: 0.7145 - acc: 0.8752 - val_loss: 0.9058 - val_acc: 0.8521\n",
      "Epoch 43/50\n",
      "233/233 [==============================] - 274s 1s/step - loss: 0.7087 - acc: 0.8766 - val_loss: 0.9138 - val_acc: 0.8491\n",
      "Epoch 44/50\n",
      "233/233 [==============================] - 256s 1s/step - loss: 0.7034 - acc: 0.8774 - val_loss: 0.9267 - val_acc: 0.8472\n",
      "Epoch 45/50\n",
      "233/233 [==============================] - 251s 1s/step - loss: 0.6976 - acc: 0.8787 - val_loss: 0.9028 - val_acc: 0.8517\n",
      "Epoch 46/50\n",
      "233/233 [==============================] - 250s 1s/step - loss: 0.6920 - acc: 0.8797 - val_loss: 0.8945 - val_acc: 0.8537\n",
      "Epoch 47/50\n",
      "233/233 [==============================] - 256s 1s/step - loss: 0.6866 - acc: 0.8807 - val_loss: 0.9002 - val_acc: 0.8523\n",
      "Epoch 48/50\n",
      "233/233 [==============================] - 255s 1s/step - loss: 0.6807 - acc: 0.8817 - val_loss: 0.8941 - val_acc: 0.8533\n",
      "Epoch 49/50\n",
      "233/233 [==============================] - 267s 1s/step - loss: 0.6751 - acc: 0.8827 - val_loss: 0.8909 - val_acc: 0.8537\n",
      "Epoch 50/50\n",
      "233/233 [==============================] - 261s 1s/step - loss: 0.6699 - acc: 0.8835 - val_loss: 0.8929 - val_acc: 0.8528\n"
     ]
    },
    {
     "data": {
      "text/plain": [
       "<tensorflow.python.keras.callbacks.History at 0x23aaec7af08>"
      ]
     },
     "execution_count": 29,
     "metadata": {},
     "output_type": "execute_result"
    }
   ],
   "source": [
    "model.fit(x = [encoder_input_train, decoder_input_train],\n",
    "          y = decoder_target_train,\n",
    "          validation_data = ([encoder_input_test, decoder_input_test], decoder_target_test),\n",
    "          batch_size = 128, epochs = 50)"
   ]
  },
  {
   "cell_type": "code",
   "execution_count": 30,
   "metadata": {},
   "outputs": [],
   "source": [
    "encoder_model = Model(encoder_inputs, encoder_states)"
   ]
  },
  {
   "cell_type": "code",
   "execution_count": 31,
   "metadata": {},
   "outputs": [],
   "source": [
    "decoder_state_input_h = Input(shape = (latent_dim, ))\n",
    "decoder_state_input_c = Input(shape = (latent_dim, ))\n",
    "decoder_states_inputs = [decoder_state_input_h, decoder_state_input_c]\n",
    "\n",
    "dec_emb2 = dec_emb_layer(decoder_inputs)\n",
    "\n",
    "decoder_outputs2, state_h2, state_c2 = decoder_lstm(dec_emb2, initial_state = decoder_states_inputs)\n",
    "decoder_states2 = [state_h2, state_c2]\n",
    "\n",
    "decoder_outputs2 = decoder_dense(decoder_outputs2)"
   ]
  },
  {
   "cell_type": "code",
   "execution_count": 32,
   "metadata": {},
   "outputs": [],
   "source": [
    "decoder_model = Model([decoder_inputs] + decoder_states_inputs,\n",
    "                      [decoder_outputs2] + decoder_states2)"
   ]
  },
  {
   "cell_type": "code",
   "execution_count": 33,
   "metadata": {},
   "outputs": [],
   "source": [
    "def decode_sequence(input_seq):\n",
    "    states_value = encoder_model.predict(input_seq)\n",
    "    \n",
    "    target_seq = np.zeros((1, 1))\n",
    "    target_seq[0, 0] = tar_to_index['<sos>']\n",
    "    \n",
    "    stop_condition = False\n",
    "    decoded_sentence = ''\n",
    "    \n",
    "    while not stop_condition:\n",
    "        output_tokens, h, c = decoder_model.predict([target_seq] + states_value)\n",
    "        \n",
    "        sampled_token_index = np.argmax(output_tokens[0, -1, :])\n",
    "        sampled_char = index_to_tar[sampled_token_index]\n",
    "        \n",
    "        decoded_sentence += ' ' + sampled_char\n",
    "        \n",
    "        if (sampled_char == '<eos>' or len(decoded_sentence) > 50):\n",
    "            stop_condition = True\n",
    "        \n",
    "        target_seq = np.zeros((1, 1))\n",
    "        target_seq[0, 0] = sampled_token_index\n",
    "        \n",
    "        states_value = [h, c]\n",
    "        \n",
    "    return decoded_sentence"
   ]
  },
  {
   "cell_type": "code",
   "execution_count": 34,
   "metadata": {},
   "outputs": [],
   "source": [
    "def seq2src(input_seq):\n",
    "    temp = ''\n",
    "    for i in input_seq:\n",
    "        if(i != 0):\n",
    "            temp = temp + index_to_src[i] + ' '\n",
    "    return temp\n",
    "\n",
    "def seq2tar(input_seq):\n",
    "    temp = ''\n",
    "    for i in input_seq:\n",
    "        if((i != 0 and i != tar_to_index['<sos>']) and i != tar_to_index['<eos>']):\n",
    "            temp = temp + index_to_tar[i] + ' '\n",
    "    return temp\n"
   ]
  },
  {
   "cell_type": "code",
   "execution_count": 35,
   "metadata": {},
   "outputs": [
    {
     "name": "stdout",
     "output_type": "stream",
     "text": [
      "원문 :  what a nice family ! \n",
      "번역문 :  quelle chouette famille ! \n",
      "예측문 :   quelle etait voiture ! \n",
      "\n",
      "\n",
      "원문 :  this isn t funny . \n",
      "번역문 :  ce n est pas drole ! \n",
      "예측문 :   ce n est pas drole . \n",
      "\n",
      "\n",
      "원문 :  i like what i do . \n",
      "번역문 :  j apprecie ce que je fais . \n",
      "예측문 :   je suis ce que je aime pas les ? \n",
      "\n",
      "\n",
      "원문 :  we saved your life . \n",
      "번역문 :  nous t avons sauve la vie . \n",
      "예측문 :   nous nous avons tous vu seul . \n",
      "\n",
      "\n",
      "원문 :  hop in . \n",
      "번역문 :  montez . \n",
      "예측문 :   prends la lumiere . \n",
      "\n",
      "\n",
      "원문 :  how exciting ! \n",
      "번역문 :  comme c est excitant ! \n",
      "예측문 :   c est beau ! \n",
      "\n",
      "\n",
      "원문 :  that s what i heard . \n",
      "번역문 :  c est ce que j ai entendu . \n",
      "예측문 :   c est ce que je l ai vu . \n",
      "\n",
      "\n",
      "원문 :  she has no fear . \n",
      "번역문 :  elle n a pas peur . \n",
      "예측문 :   elle n a pas de reponse . \n",
      "\n",
      "\n",
      "원문 :  are you relaxed ? \n",
      "번역문 :  es tu detendu ? \n",
      "예측문 :   etes vous deux ? \n",
      "\n",
      "\n",
      "원문 :  stop gawking . \n",
      "번역문 :  arrete de bayer aux corneilles . \n",
      "예측문 :   arrete de nouveau les yeux . \n",
      "\n",
      "\n"
     ]
    }
   ],
   "source": [
    "# 201800839\n",
    "# [39, 839, 239, 139, 1039, 1239, 1839, 2039, 2139, 2839]\n",
    "for seq_index in [39, 839, 239, 139, 1039, 1239, 1839, 2039, 2139, 2839]:\n",
    "    input_seq = encoder_input_train[seq_index: seq_index + 1]\n",
    "    decoded_sentence = decode_sequence(input_seq)\n",
    "    \n",
    "    print(\"원문 : \", seq2src(encoder_input_train[seq_index]))\n",
    "    print(\"번역문 : \", seq2tar(decoder_input_train[seq_index]))\n",
    "    print(\"예측문 : \", decoded_sentence[:-5])\n",
    "    print(\"\\n\")"
   ]
  },
  {
   "cell_type": "code",
   "execution_count": 36,
   "metadata": {},
   "outputs": [
    {
     "name": "stdout",
     "output_type": "stream",
     "text": [
      "원문 :  i m not strong . \n",
      "번역문 :  je ne suis pas fort . \n",
      "예측문 :   je ne suis pas en train de partir . \n",
      "\n",
      "\n",
      "원문 :  i was worried . \n",
      "번역문 :  j etais inquiete . \n",
      "예측문 :   j etais en train de etait une faute . \n",
      "\n",
      "\n",
      "원문 :  everyone escaped . \n",
      "번역문 :  tout le monde s est echappe . \n",
      "예측문 :   tout le monde s est passe un fait . \n",
      "\n",
      "\n",
      "원문 :  is it that obvious ? \n",
      "번역문 :  est ce si evident ? \n",
      "예측문 :   est ce que c est libre ? \n",
      "\n",
      "\n",
      "원문 :  tom needs help now . \n",
      "번역문 :  tom a besoin d aide en ce moment . \n",
      "예측문 :   tom a besoin de la voiture . \n",
      "\n",
      "\n",
      "원문 :  back off . \n",
      "번역문 :  retirez vous . \n",
      "예측문 :   maintenant ! \n",
      "\n",
      "\n",
      "원문 :  i never wanted that . \n",
      "번역문 :  je n ai jamais voulu ca . \n",
      "예측문 :   je ne l ai jamais vu . \n",
      "\n",
      "\n",
      "원문 :  that s a surprise . \n",
      "번역문 :  c est une surprise . \n",
      "예측문 :   c est une bonne . \n",
      "\n",
      "\n",
      "원문 :  i barely knew tom . \n",
      "번역문 :  je connaissais a peine tom . \n",
      "예측문 :   je devrais etre qu elle a l exterieur . \n",
      "\n",
      "\n",
      "원문 :  we were terrified . \n",
      "번역문 :  nous etions terrifiees . \n",
      "예측문 :   nous etions en train de manger . \n",
      "\n",
      "\n"
     ]
    }
   ],
   "source": [
    "# 201800839\n",
    "# [39, 839, 239, 139, 1039, 1239, 1839, 2039, 2139, 2839]\n",
    "for seq_index in [39, 839, 239, 139, 1039, 1239, 1839, 2039, 2139, 2839]:\n",
    "    input_seq = encoder_input_test[seq_index: seq_index + 1]\n",
    "    decoded_sentence = decode_sequence(input_seq)\n",
    "    \n",
    "    print(\"원문 : \", seq2src(encoder_input_test[seq_index]))\n",
    "    print(\"번역문 : \", seq2tar(decoder_input_test[seq_index]))\n",
    "    print(\"예측문 : \", decoded_sentence[:-5])\n",
    "    print(\"\\n\")"
   ]
  }
 ],
 "metadata": {
  "kernelspec": {
   "display_name": "Python 3",
   "language": "python",
   "name": "python3"
  },
  "language_info": {
   "codemirror_mode": {
    "name": "ipython",
    "version": 3
   },
   "file_extension": ".py",
   "mimetype": "text/x-python",
   "name": "python",
   "nbconvert_exporter": "python",
   "pygments_lexer": "ipython3",
   "version": "3.7.6"
  }
 },
 "nbformat": 4,
 "nbformat_minor": 4
}
